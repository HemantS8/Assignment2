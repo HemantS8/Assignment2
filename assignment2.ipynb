{
 "cells": [
  {
   "cell_type": "markdown",
   "metadata": {},
   "source": [
    "# Task1"
   ]
  },
  {
   "cell_type": "markdown",
   "metadata": {},
   "source": [
    "### 1.1 : Write a Python Program to implement your own myreduce() function which works exactly like Python's built-in reduce()  "
   ]
  },
  {
   "cell_type": "code",
   "execution_count": 54,
   "metadata": {},
   "outputs": [
    {
     "name": "stdout",
     "output_type": "stream",
     "text": [
      "sdfsvdgvabsh\n"
     ]
    }
   ],
   "source": [
    "def my_reduce(f, *args):\n",
    "    if len(args) == 0:\n",
    "        return None\n",
    "    result = args[0]\n",
    "    for i in range(1, len(args)):\n",
    "        result = f(result, args[i])\n",
    "    return result\n",
    "\n",
    "print(my_reduce(lambda x,y: x+y,'sdf','svdgva','bsh'))\n",
    "    \n",
    "      \n",
    "    "
   ]
  },
  {
   "cell_type": "markdown",
   "metadata": {},
   "source": [
    "### 1.2 : Write a Python program to implement your own myfilter() function which works exactly like Python's built-in function filter()  "
   ]
  },
  {
   "cell_type": "code",
   "execution_count": null,
   "metadata": {},
   "outputs": [],
   "source": [
    "def my_filter(func,sequence):\n",
    "    res=[]\n",
    "    for variable in sequence :\n",
    "        if func(variable):\n",
    "            res.append(variable)\n",
    "    return res\n",
    "\n",
    "def is_even(item):\n",
    "    if item%2==0 :\n",
    "        return True\n",
    "    else :\n",
    "        return False\n",
    "\n",
    "\n",
    "\n",
    "seq=[1,2,3,4,5,6,7,8,9,10]\n",
    "print(my_filter(is_even,seq))"
   ]
  },
  {
   "cell_type": "markdown",
   "metadata": {},
   "source": [
    "### 1.3 :Write List comprehensions to produce the following Lists \n",
    "['A', 'C', 'A', 'D', 'G', 'I', ’L’, ‘ D’]"
   ]
  },
  {
   "cell_type": "code",
   "execution_count": 4,
   "metadata": {},
   "outputs": [
    {
     "name": "stdout",
     "output_type": "stream",
     "text": [
      "['A', 'C', 'A', 'D', 'G', 'I', 'L', 'D']\n"
     ]
    }
   ],
   "source": [
    "Output = list(x for x in \"ACADGILD\")\n",
    "print(Output)"
   ]
  },
  {
   "cell_type": "markdown",
   "metadata": {},
   "source": [
    "### 1.3 :Write List comprehensions to produce the following Lists \n",
    "['x', 'xx', 'xxx', 'xxxx', 'y', 'yy', 'yyy', 'yyyy', 'z', 'zz', 'zzz', 'zzzz'] "
   ]
  },
  {
   "cell_type": "code",
   "execution_count": 5,
   "metadata": {},
   "outputs": [
    {
     "name": "stdout",
     "output_type": "stream",
     "text": [
      "['x', 'xx', 'xxx', 'xxxx', 'y', 'yy', 'yyy', 'yyyy', 'z', 'zz', 'zzz', 'zzzz']\n"
     ]
    }
   ],
   "source": [
    "output = []\n",
    "for i in range(1,5):\n",
    "    output.append('x' * i)\n",
    "for i in range(1,5):\n",
    "    output.append('y' * i)\n",
    "for i in range(1,5):\n",
    "    output.append('z' * i)\n",
    "\n",
    "print(output)\n"
   ]
  },
  {
   "cell_type": "markdown",
   "metadata": {},
   "source": [
    "### 1.3 :Write List comprehensions to produce the following Lists\n",
    "['x', 'y', 'z', 'xx', 'yy', 'zz', 'xx', 'yy', 'zz', 'xxxx', 'yyyy', 'zzzz']"
   ]
  },
  {
   "cell_type": "code",
   "execution_count": 10,
   "metadata": {},
   "outputs": [
    {
     "name": "stdout",
     "output_type": "stream",
     "text": [
      "['x', 'y', 'z', 'xx', 'yy', 'zz', 'xxx', 'yyy', 'zzz', 'xxxx', 'yyyy', 'zzzz']\n"
     ]
    }
   ],
   "source": [
    "output = []\n",
    "for i in range(1,5):\n",
    "    output.append('x' * i)\n",
    "    output.append('y' * i)\n",
    "    output.append('z' * i)\n",
    "\n",
    "print(output)"
   ]
  },
  {
   "cell_type": "markdown",
   "metadata": {},
   "source": [
    "### 1.3 :Write List comprehensions to produce the following Lists\n",
    "[[2], [3], [4], [3], [4], [5], [4], [5], [6]] "
   ]
  },
  {
   "cell_type": "code",
   "execution_count": 9,
   "metadata": {},
   "outputs": [
    {
     "name": "stdout",
     "output_type": "stream",
     "text": [
      "[[2], [3], [4], [3], [4], [5], [4], [5], [6]]\n"
     ]
    }
   ],
   "source": [
    "output = []\n",
    "for i in range(2,5):\n",
    "    output.append([i])\n",
    "for i in range(3,6):\n",
    "    output.append([i])\n",
    "for i in range(4,7):\n",
    "    output.append([i])\n",
    "print(output)"
   ]
  },
  {
   "cell_type": "markdown",
   "metadata": {},
   "source": [
    "#      "
   ]
  },
  {
   "cell_type": "markdown",
   "metadata": {},
   "source": [
    "### 1.3 :Write List comprehensions to produce the following Lists\n",
    "    [[2, 3, 4, 5], [3, 4, 5, 6], [4, 5, 6, 7], [5, 6, 7, 8]] "
   ]
  },
  {
   "cell_type": "code",
   "execution_count": 13,
   "metadata": {},
   "outputs": [
    {
     "name": "stdout",
     "output_type": "stream",
     "text": [
      "[[2, 3, 4, 5], [3, 4, 5, 6], [4, 5, 6, 7], [5, 6, 7, 8]]\n"
     ]
    }
   ],
   "source": [
    "output =[]\n",
    "\n",
    "output.append(list(i for i in range(2,6)))\n",
    "output.append(list(i for i in range(3,7)))\n",
    "output.append(list(i for i in range(4,8)))\n",
    "output.append(list(i for i in range(5,9)))\n",
    "\n",
    "print(output)"
   ]
  },
  {
   "cell_type": "markdown",
   "metadata": {},
   "source": [
    "### 1.3 :Write List comprehensions to produce the following Lists\n",
    "    [(1, 1), (2, 1), (3, 1), (1, 2), (2, 2), (3, 2), (1, 3), (2, 3), (3, 3)]"
   ]
  },
  {
   "cell_type": "code",
   "execution_count": 14,
   "metadata": {},
   "outputs": [
    {
     "name": "stdout",
     "output_type": "stream",
     "text": [
      "[(1, 1), (2, 1), (3, 1), (1, 2), (2, 2), (3, 2), (1, 3), (2, 3), (3, 3)]\n"
     ]
    }
   ],
   "source": [
    "i=1\n",
    "output = list((j,i) for j in range(1,4))\n",
    "i=2\n",
    "output.extend(list((j,i) for j in range(1,4)))\n",
    "i=3\n",
    "output.extend(list((j,i) for j in range(1,4)))\n",
    "print(output)"
   ]
  },
  {
   "cell_type": "markdown",
   "metadata": {},
   "source": [
    "#   "
   ]
  },
  {
   "cell_type": "markdown",
   "metadata": {},
   "source": [
    "### 1.4 : Implement a function longestWord() that takes a list of words and returns the longest one. "
   ]
  },
  {
   "cell_type": "code",
   "execution_count": 18,
   "metadata": {},
   "outputs": [
    {
     "name": "stdout",
     "output_type": "stream",
     "text": [
      "Please enter a few words :raj Hemant rohan\n",
      "Hemant\n"
     ]
    }
   ],
   "source": [
    "def find_longest_word(word_list):\n",
    "    longest_word = ''\n",
    "    for word in word_list:\n",
    "        if(len(word) > len(longest_word)):\n",
    "            longest_word = word\n",
    "    print(longest_word)\n",
    "    \n",
    "words = input('Please enter a few words :')\n",
    "word_list = words.split()\n",
    "find_longest_word(word_list)"
   ]
  },
  {
   "cell_type": "markdown",
   "metadata": {},
   "source": [
    "#   "
   ]
  },
  {
   "cell_type": "markdown",
   "metadata": {},
   "source": [
    "### 2.1 Write a Python Program(with class concepts) to find the area of the triangle using the below formula. area = (s*(s-a)*(s-b)*(s-c)) ** 0.5 ,Function to take the length of the sides of triangle from user should be defined in the parent class and function to calculate the area should be defined in subclass. \n",
    " \n",
    " "
   ]
  },
  {
   "cell_type": "code",
   "execution_count": null,
   "metadata": {},
   "outputs": [],
   "source": [
    "class Triangle:\n",
    "    def __init__(self,a,b,c):\n",
    "        self.a = float(a)\n",
    "        self.b = float(b)\n",
    "        self.c = float(c)\n",
    "        self.s = (float(a) + float(b) + float(c))/2.0\n",
    "\n",
    "a = input(\"Enter the value of a :\")\n",
    "b = input(\"Enter the value of b :\")\n",
    "c = input(\"Enter the value of c :\")\n",
    "\n",
    "attr1 = Triangle(a,b,c)\n",
    "\n",
    "print(\"s = \",attr1.s)\n",
    "\n",
    "class Area(Triangle):\n",
    "    def __init__(self):\n",
    "        super().__init__(a,b,c)\n",
    "        self.area = (float(self.s)*(float(self.s)-float(a))*(float(self.s)-float(b))*(float(self.s)-float(c))**0.5)\n",
    "        \n",
    "attr2 = Area()\n",
    "print(\"Area of triangle is :\",attr2.area)\n"
   ]
  },
  {
   "cell_type": "markdown",
   "metadata": {},
   "source": [
    "#     "
   ]
  },
  {
   "cell_type": "markdown",
   "metadata": {},
   "source": [
    "### 2.2 Write a function filter_long_words() that takes a list of words and an integer n and returns the list of words that are longer than n. "
   ]
  },
  {
   "cell_type": "code",
   "execution_count": null,
   "metadata": {},
   "outputs": [],
   "source": [
    "def filter_long_words(w_list,num):\n",
    "    longest_word =[]\n",
    "    for word in w_list:\n",
    "        if(len(word) > int(num)):\n",
    "            longest_word.append(word)\n",
    "    else:\n",
    "        return longest_word\n",
    "    \n",
    "num = input('enter integer :')\n",
    "words = input('Please enter a few words :')\n",
    "w_list = words.split()\n",
    "ab = filter_long_words(w_list,num)\n",
    "print(ab)"
   ]
  },
  {
   "cell_type": "markdown",
   "metadata": {},
   "source": [
    "#     "
   ]
  },
  {
   "cell_type": "markdown",
   "metadata": {},
   "source": [
    "### 2.3 :Write a Python program using function concept that maps  list of words into a list of integers representing the lengths of the corresponding words​. "
   ]
  },
  {
   "cell_type": "code",
   "execution_count": null,
   "metadata": {},
   "outputs": [],
   "source": [
    "def wordlength(wlist):\n",
    "    l_word =[]\n",
    "    for i in range(len(wlist)):\n",
    "        ab = len(wlist[i])\n",
    "        l_word.append(ab)\n",
    "    else:\n",
    "        return (l_word)\n",
    "\n",
    "ws = input('Please enter a few words :')\n",
    "wlist = ws.split()\n",
    "rb = list(map(wordlength, wlist))\n",
    "finallist =[]\n",
    "for a in rb:\n",
    "     sb = a.count(1)\n",
    "    finallist.append(sb)\n",
    "print(finallist)"
   ]
  },
  {
   "cell_type": "markdown",
   "metadata": {},
   "source": [
    "#     "
   ]
  },
  {
   "cell_type": "markdown",
   "metadata": {},
   "source": [
    "### 2.4 : Write a Python function which takes a character (i.e. a string of length 1) and returns True if it is a vowel, False otherwise. \n",
    " \n",
    " "
   ]
  },
  {
   "cell_type": "code",
   "execution_count": null,
   "metadata": {},
   "outputs": [],
   "source": [
    "def vowel_check(ch):\n",
    "    if(ch=='A' or ch=='a' or ch=='E' or ch =='e' or ch=='I'\n",
    "         or ch=='i' or ch=='O' or ch=='o' or ch=='U' or ch=='u'):\n",
    "              return True\n",
    "    else:\n",
    "        return False\n",
    "ch = input(\"Enter a character :\")\n",
    "pf = vowel_check(ch)\n",
    "print(pf)\n"
   ]
  }
 ],
 "metadata": {
  "kernelspec": {
   "display_name": "Python 3",
   "language": "python",
   "name": "python3"
  },
  "language_info": {
   "codemirror_mode": {
    "name": "ipython",
    "version": 3
   },
   "file_extension": ".py",
   "mimetype": "text/x-python",
   "name": "python",
   "nbconvert_exporter": "python",
   "pygments_lexer": "ipython3",
   "version": "3.7.3"
  }
 },
 "nbformat": 4,
 "nbformat_minor": 2
}
